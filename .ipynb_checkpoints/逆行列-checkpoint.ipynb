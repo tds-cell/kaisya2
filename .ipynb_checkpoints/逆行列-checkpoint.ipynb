{
 "cells": [
  {
   "cell_type": "code",
   "execution_count": 29,
   "id": "03f08040",
   "metadata": {},
   "outputs": [
    {
     "name": "stdout",
     "output_type": "stream",
     "text": [
      "[[-2.57242444e-01  1.29612623e-01  1.29612623e-01  0.00000000e+00]\n",
      " [-2.49525171e+00  1.25724244e+00  2.57242444e-01  0.00000000e+00]\n",
      " [ 1.01227250e+03 -1.04357990e+02 -1.04357990e+02  0.00000000e+00]\n",
      " [-2.53068125e+04  2.60894974e+03  2.60894974e+03  2.50000000e+01]]\n",
      "[ 3.85977521e-03 -2.56018043e-03 -1.03846635e+00  2.59616589e+01]\n"
     ]
    }
   ],
   "source": [
    "import numpy as np\n",
    "\n",
    "#Ps=500kPa時\n",
    "A13 = 0.001242\n",
    "A23 = 0.002465\n",
    "B1 = 0.00257\n",
    "B2 = -0.00512\n",
    "\n",
    "#ノズルギャップ(mm)\n",
    "ng = 0.04\n",
    "\n",
    "a = ([1, 0, A13, 0], [0,1, A23, 0], [9.7, -1, 0 ,0], [0, 0, 1, ng])\n",
    "b = ([B1, B2, ng, 0])\n",
    "inv_a = np.linalg.inv(a)\n",
    "det_a = np.linalg.det(a)\n",
    "print(inv_a)\n",
    "#print(det_a)\n",
    "print(np.dot(inv_a, b))"
   ]
  },
  {
   "cell_type": "code",
   "execution_count": null,
   "id": "64be4b0f",
   "metadata": {},
   "outputs": [],
   "source": []
  }
 ],
 "metadata": {
  "kernelspec": {
   "display_name": "Python 3 (ipykernel)",
   "language": "python",
   "name": "python3"
  },
  "language_info": {
   "codemirror_mode": {
    "name": "ipython",
    "version": 3
   },
   "file_extension": ".py",
   "mimetype": "text/x-python",
   "name": "python",
   "nbconvert_exporter": "python",
   "pygments_lexer": "ipython3",
   "version": "3.9.13"
  }
 },
 "nbformat": 4,
 "nbformat_minor": 5
}
