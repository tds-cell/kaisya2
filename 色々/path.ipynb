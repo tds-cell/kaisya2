{
 "cells": [
  {
   "cell_type": "code",
   "execution_count": 29,
   "id": "03f08040",
   "metadata": {},
   "outputs": [
    {
     "name": "stdout",
     "output_type": "stream",
     "text": [
      "[[-2.57242444e-01  1.29612623e-01  1.29612623e-01  0.00000000e+00]\n",
      " [-2.49525171e+00  1.25724244e+00  2.57242444e-01  0.00000000e+00]\n",
      " [ 1.01227250e+03 -1.04357990e+02 -1.04357990e+02  0.00000000e+00]\n",
      " [-2.53068125e+04  2.60894974e+03  2.60894974e+03  2.50000000e+01]]\n",
      "[ 3.85977521e-03 -2.56018043e-03 -1.03846635e+00  2.59616589e+01]\n"
     ]
    }
   ],
   "source": [
    "a = 1\n",
    "b = 2\n",
    "c = a + b\n",
    "print(c)"
   ]
  },
  {
   "cell_type": "code",
   "execution_count": null,
   "id": "64be4b0f",
   "metadata": {},
   "outputs": [],
   "source": []
  }
 ],
 "metadata": {
  "kernelspec": {
   "display_name": "Python 3.6.8 32-bit",
   "language": "python",
   "name": "python3"
  },
  "language_info": {
   "codemirror_mode": {
    "name": "ipython",
    "version": 3
   },
   "file_extension": ".py",
   "mimetype": "text/x-python",
   "name": "python",
   "nbconvert_exporter": "python",
   "pygments_lexer": "ipython3",
   "version": "3.6.8"
  },
  "vscode": {
   "interpreter": {
    "hash": "fb3d842ec4de4a61587af735502440993de370b706b371c40897a0c74b9f5379"
   }
  }
 },
 "nbformat": 4,
 "nbformat_minor": 5
}
